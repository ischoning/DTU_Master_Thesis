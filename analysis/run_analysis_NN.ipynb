{
 "cells": [
  {
   "cell_type": "code",
   "execution_count": 1,
   "id": "b0b3bba9",
   "metadata": {},
   "outputs": [],
   "source": [
    "import numpy as np\n",
    "import matplotlib\n",
    "%matplotlib inline\n",
    "import matplotlib.pyplot as plt\n",
    "import os\n",
    "import sys\n",
    "import pickle\n",
    "from struct import *\n",
    "import pandas as pd\n",
    "import seaborn as sns\n",
    "import mixture\n",
    "sns.set_style(\"white\")\n",
    "import warnings\n",
    "warnings.filterwarnings(\"ignore\")\n",
    "import collections\n",
    "from math import pi, cos, sin, cosh, tanh\n",
    "from scipy.spatial.transform import Rotation as Rot\n",
    "import cv2\n",
    "import plotting\n",
    "from plotting import *\n",
    "import scipy.interpolate\n",
    "import scipy.integrate\n",
    "import scipy.stats\n",
    "from sklearn.linear_model import RANSACRegressor, TheilSenRegressor, LinearRegression\n",
    "from sklearn.mixture import GaussianMixture\n",
    "from scipy.stats import norm\n",
    "from scipy.signal import argrelextrema\n",
    "from statistics import median\n",
    "from scipy.stats import pearsonr"
   ]
  },
  {
   "cell_type": "code",
   "execution_count": 2,
   "id": "1844a19f",
   "metadata": {},
   "outputs": [],
   "source": [
    "#\n",
    "# Define colors and states for plotting events.\n",
    "#\n",
    "STATES = ['fix', 'sac', 'smp', 'vor', 'blink', 'fix_blink', 'sac_blink', 'other', 'loss']\n",
    "COLORS = {'fix':'red', 'sac':'lime', 'smp':'purple', 'vor':'brown', 'blink':'dodgerblue', 'fix_blink':'darkorchid', 'sac_blink':'turquoise', 'other':'grey', 'loss':'gold'}\n",
    "BORDERS = {'fix':'magenta', 'sac':'green', 'smp':'blue', 'vor':'tan', 'blink':'royalblue', 'fix_blink':'darkviolet', 'sac_blink':'lightseagreen', 'other':'black', 'loss':'yellow'}\n",
    "BINS = 50"
   ]
  },
  {
   "cell_type": "markdown",
   "id": "08ba2fce",
   "metadata": {},
   "source": [
    "## Load data"
   ]
  },
  {
   "cell_type": "code",
   "execution_count": 3,
   "id": "a89cdcb2",
   "metadata": {},
   "outputs": [],
   "source": [
    "seq = pd.read_csv('/data/Isabella/thesis_spring2022/event_detect_out_final/all_sequences_varjo.csv', index_col=[0])\n",
    "seq = seq.loc[:,'HMD':]"
   ]
  },
  {
   "cell_type": "code",
   "execution_count": 4,
   "id": "34746a7a",
   "metadata": {},
   "outputs": [],
   "source": [
    "nn = pd.read_csv('/data/Isabella/thesis_spring2022/NN/results_after_FI.csv', index_col=[0])"
   ]
  },
  {
   "cell_type": "code",
   "execution_count": 5,
   "id": "1e057ce1",
   "metadata": {},
   "outputs": [],
   "source": [
    "# Upload the error data\n",
    "#errors = pd.read_csv('/home/s202576/thesis_spring2022/NN/data_prep/tagged_errors.csv', index_col=[0])\n",
    "errors_ = pd.read_csv('/home/s202576/thesis_spring2022/NN/data_prep/error-tags_full.csv', index_col=[0])\n",
    "\n",
    "errors_.loc[:, 'subID':'Track'] = errors_.loc[:, 'subID':'Track'].astype(str)\n",
    "#errors.loc[:, 'Timestamp':'value5b'] = errors.loc[:, 'Timestamp':'value5b'].astype(float)\n",
    "errors_.loc[:, 'HMD'] = errors_.loc[:, 'HMD'].astype(str)\n",
    "errors_.loc[:, 'offset'] = errors_.loc[:, 'offset'].astype(bool)\n",
    "#errors.loc[:, 'Timestamp_adjusted'] = errors.loc[:, 'Timestamp_adjusted'].astype(float)\n",
    "\n",
    "# Determine whether the type of error is a motor error (and not a process error)\n",
    "errors_['motor_error'] = False\n",
    "for idx, row in errors_.iterrows():\n",
    "    if row.error_type_value1=='1' or row.error_type_value2=='1' or row.error_type_value3=='1' or row.error_type_value4=='1' or row.error_type_value5=='1':\n",
    "        errors_.loc[idx, 'motor_error'] = True\n",
    "    \n",
    "errors = errors_[errors_.motor_error==True]\n",
    "\n",
    "errors.reset_index(drop=True, inplace=True)\n",
    "\n",
    "assert all(errors['offset'] == True), \"The timestamps of tagged errors have not been adjusted.\""
   ]
  },
  {
   "cell_type": "code",
   "execution_count": 6,
   "id": "ec38b0bb",
   "metadata": {},
   "outputs": [],
   "source": [
    "# # Use this to create unique identifier 'UID' in the data if it doesn't already exist\n",
    "# if 'UID' not in seq.columns.tolist():\n",
    "#     seq['UID'] = ''\n",
    "#     for idx, row in seq.iterrows():\n",
    "#         seq.loc[idx, 'UID'] = row.HMD+row.subID+row.task+row.eye\n",
    "        \n",
    "# if 'UID' not in seq_50.columns.tolist():\n",
    "#     seq_50['UID'] = ''\n",
    "#     for idx, row in seq_50.iterrows():\n",
    "#         seq_50.loc[idx, 'UID'] = row.HMD+row.subID+row.task+row.eye\n",
    "        \n",
    "# if 'UID' not in seq_51.columns.tolist():\n",
    "#     seq_51['UID'] = ''\n",
    "#     for idx, row in seq_51.iterrows():\n",
    "#         seq_51.loc[idx, 'UID'] = row.HMD+row.subID+row.task+row.eye\n",
    "\n",
    "# del seq['Unnamed: 0.1']\n",
    "# del seq_50['Unnamed: 0.1']\n",
    "# del seq_51['Unnamed: 0.1']\n",
    "\n",
    "# seq.to_csv('/data/Isabella/thesis_spring2022/event_detect_out_final/all_sequences_varjo.csv')\n",
    "# seq_50.to_csv('/data/Isabella/thesis_spring2022/event_detect_out_final/50/all_sequences_50_varjo.csv')\n",
    "# seq_51.to_csv('/data/Isabella/thesis_spring2022/event_detect_out_final/51/all_sequences_51_varjo.csv')\n",
    "\n",
    "# # seq.head()"
   ]
  },
  {
   "cell_type": "code",
   "execution_count": 7,
   "id": "2d899be3",
   "metadata": {},
   "outputs": [
    {
     "data": {
      "text/html": [
       "<div>\n",
       "<style scoped>\n",
       "    .dataframe tbody tr th:only-of-type {\n",
       "        vertical-align: middle;\n",
       "    }\n",
       "\n",
       "    .dataframe tbody tr th {\n",
       "        vertical-align: top;\n",
       "    }\n",
       "\n",
       "    .dataframe thead th {\n",
       "        text-align: right;\n",
       "    }\n",
       "</style>\n",
       "<table border=\"1\" class=\"dataframe\">\n",
       "  <thead>\n",
       "    <tr style=\"text-align: right;\">\n",
       "      <th></th>\n",
       "      <th>HMD</th>\n",
       "      <th>rate</th>\n",
       "      <th>eye</th>\n",
       "      <th>task</th>\n",
       "      <th>subID</th>\n",
       "      <th>VL</th>\n",
       "      <th>event</th>\n",
       "      <th>start_i</th>\n",
       "      <th>end_i</th>\n",
       "      <th>start_s</th>\n",
       "      <th>...</th>\n",
       "      <th>calculus_error</th>\n",
       "      <th>carpenter_error</th>\n",
       "      <th>P_nonfix</th>\n",
       "      <th>P_fix</th>\n",
       "      <th>P_ff</th>\n",
       "      <th>P_smp</th>\n",
       "      <th>P_sac</th>\n",
       "      <th>P_blink</th>\n",
       "      <th>has_blink</th>\n",
       "      <th>UID</th>\n",
       "    </tr>\n",
       "  </thead>\n",
       "  <tbody>\n",
       "    <tr>\n",
       "      <th>0</th>\n",
       "      <td>varjo</td>\n",
       "      <td>200</td>\n",
       "      <td>right</td>\n",
       "      <td>cereal</td>\n",
       "      <td>P19</td>\n",
       "      <td>CVL</td>\n",
       "      <td>smp</td>\n",
       "      <td>0</td>\n",
       "      <td>25</td>\n",
       "      <td>1.081565</td>\n",
       "      <td>...</td>\n",
       "      <td>0.366132</td>\n",
       "      <td>1.527210</td>\n",
       "      <td>0.534494</td>\n",
       "      <td>0.465506</td>\n",
       "      <td>5.470863e-11</td>\n",
       "      <td>0.465506</td>\n",
       "      <td>0.384207</td>\n",
       "      <td>0.150287</td>\n",
       "      <td>0</td>\n",
       "      <td>varjoP19cerealright</td>\n",
       "    </tr>\n",
       "    <tr>\n",
       "      <th>1</th>\n",
       "      <td>varjo</td>\n",
       "      <td>200</td>\n",
       "      <td>right</td>\n",
       "      <td>cereal</td>\n",
       "      <td>P19</td>\n",
       "      <td>CVL</td>\n",
       "      <td>fix</td>\n",
       "      <td>26</td>\n",
       "      <td>49</td>\n",
       "      <td>1.211610</td>\n",
       "      <td>...</td>\n",
       "      <td>0.230767</td>\n",
       "      <td>2.684010</td>\n",
       "      <td>0.059622</td>\n",
       "      <td>0.940378</td>\n",
       "      <td>8.531830e-01</td>\n",
       "      <td>0.087195</td>\n",
       "      <td>0.057516</td>\n",
       "      <td>0.002106</td>\n",
       "      <td>0</td>\n",
       "      <td>varjoP19cerealright</td>\n",
       "    </tr>\n",
       "    <tr>\n",
       "      <th>2</th>\n",
       "      <td>varjo</td>\n",
       "      <td>200</td>\n",
       "      <td>right</td>\n",
       "      <td>cereal</td>\n",
       "      <td>P19</td>\n",
       "      <td>CVL</td>\n",
       "      <td>sac</td>\n",
       "      <td>50</td>\n",
       "      <td>56</td>\n",
       "      <td>1.326648</td>\n",
       "      <td>...</td>\n",
       "      <td>0.732365</td>\n",
       "      <td>0.474248</td>\n",
       "      <td>0.728794</td>\n",
       "      <td>0.271206</td>\n",
       "      <td>2.022088e-01</td>\n",
       "      <td>0.068997</td>\n",
       "      <td>0.000396</td>\n",
       "      <td>0.728398</td>\n",
       "      <td>0</td>\n",
       "      <td>varjoP19cerealright</td>\n",
       "    </tr>\n",
       "    <tr>\n",
       "      <th>3</th>\n",
       "      <td>varjo</td>\n",
       "      <td>200</td>\n",
       "      <td>right</td>\n",
       "      <td>cereal</td>\n",
       "      <td>P19</td>\n",
       "      <td>CVL</td>\n",
       "      <td>noise</td>\n",
       "      <td>57</td>\n",
       "      <td>59</td>\n",
       "      <td>1.361658</td>\n",
       "      <td>...</td>\n",
       "      <td>NaN</td>\n",
       "      <td>NaN</td>\n",
       "      <td>0.667140</td>\n",
       "      <td>0.332860</td>\n",
       "      <td>3.218246e-01</td>\n",
       "      <td>0.011035</td>\n",
       "      <td>0.000000</td>\n",
       "      <td>0.000000</td>\n",
       "      <td>0</td>\n",
       "      <td>varjoP19cerealright</td>\n",
       "    </tr>\n",
       "    <tr>\n",
       "      <th>4</th>\n",
       "      <td>varjo</td>\n",
       "      <td>200</td>\n",
       "      <td>right</td>\n",
       "      <td>cereal</td>\n",
       "      <td>P19</td>\n",
       "      <td>CVL</td>\n",
       "      <td>fix</td>\n",
       "      <td>60</td>\n",
       "      <td>205</td>\n",
       "      <td>1.381670</td>\n",
       "      <td>...</td>\n",
       "      <td>0.913183</td>\n",
       "      <td>24.923594</td>\n",
       "      <td>NaN</td>\n",
       "      <td>NaN</td>\n",
       "      <td>NaN</td>\n",
       "      <td>NaN</td>\n",
       "      <td>NaN</td>\n",
       "      <td>NaN</td>\n",
       "      <td>0</td>\n",
       "      <td>varjoP19cerealright</td>\n",
       "    </tr>\n",
       "  </tbody>\n",
       "</table>\n",
       "<p>5 rows × 40 columns</p>\n",
       "</div>"
      ],
      "text/plain": [
       "     HMD  rate    eye    task subID   VL  event  start_i  end_i   start_s  \\\n",
       "0  varjo   200  right  cereal   P19  CVL    smp        0     25  1.081565   \n",
       "1  varjo   200  right  cereal   P19  CVL    fix       26     49  1.211610   \n",
       "2  varjo   200  right  cereal   P19  CVL    sac       50     56  1.326648   \n",
       "3  varjo   200  right  cereal   P19  CVL  noise       57     59  1.361658   \n",
       "4  varjo   200  right  cereal   P19  CVL    fix       60    205  1.381670   \n",
       "\n",
       "   ...  calculus_error  carpenter_error  P_nonfix     P_fix          P_ff  \\\n",
       "0  ...        0.366132         1.527210  0.534494  0.465506  5.470863e-11   \n",
       "1  ...        0.230767         2.684010  0.059622  0.940378  8.531830e-01   \n",
       "2  ...        0.732365         0.474248  0.728794  0.271206  2.022088e-01   \n",
       "3  ...             NaN              NaN  0.667140  0.332860  3.218246e-01   \n",
       "4  ...        0.913183        24.923594       NaN       NaN           NaN   \n",
       "\n",
       "      P_smp     P_sac   P_blink  has_blink                  UID  \n",
       "0  0.465506  0.384207  0.150287          0  varjoP19cerealright  \n",
       "1  0.087195  0.057516  0.002106          0  varjoP19cerealright  \n",
       "2  0.068997  0.000396  0.728398          0  varjoP19cerealright  \n",
       "3  0.011035  0.000000  0.000000          0  varjoP19cerealright  \n",
       "4       NaN       NaN       NaN          0  varjoP19cerealright  \n",
       "\n",
       "[5 rows x 40 columns]"
      ]
     },
     "execution_count": 7,
     "metadata": {},
     "output_type": "execute_result"
    }
   ],
   "source": [
    "seq.head()"
   ]
  },
  {
   "cell_type": "code",
   "execution_count": 8,
   "id": "8fed4f21",
   "metadata": {},
   "outputs": [
    {
     "data": {
      "text/html": [
       "<div>\n",
       "<style scoped>\n",
       "    .dataframe tbody tr th:only-of-type {\n",
       "        vertical-align: middle;\n",
       "    }\n",
       "\n",
       "    .dataframe tbody tr th {\n",
       "        vertical-align: top;\n",
       "    }\n",
       "\n",
       "    .dataframe thead th {\n",
       "        text-align: right;\n",
       "    }\n",
       "</style>\n",
       "<table border=\"1\" class=\"dataframe\">\n",
       "  <thead>\n",
       "    <tr style=\"text-align: right;\">\n",
       "      <th></th>\n",
       "      <th>subID</th>\n",
       "      <th>task</th>\n",
       "      <th>avg_tot_dur</th>\n",
       "      <th>train_loss</th>\n",
       "      <th>train_acc</th>\n",
       "      <th>test_acc</th>\n",
       "      <th>error_true</th>\n",
       "      <th>no_error_true</th>\n",
       "      <th>error_true_accs</th>\n",
       "      <th>no_error_true_accs</th>\n",
       "    </tr>\n",
       "  </thead>\n",
       "  <tbody>\n",
       "    <tr>\n",
       "      <th>0</th>\n",
       "      <td>P19</td>\n",
       "      <td>combined</td>\n",
       "      <td>6.201509</td>\n",
       "      <td>0.597313</td>\n",
       "      <td>0.688820</td>\n",
       "      <td>0.626667</td>\n",
       "      <td>0.687500</td>\n",
       "      <td>0.557143</td>\n",
       "      <td>0.962905</td>\n",
       "      <td>0.947082</td>\n",
       "    </tr>\n",
       "    <tr>\n",
       "      <th>0</th>\n",
       "      <td>P24</td>\n",
       "      <td>combined</td>\n",
       "      <td>6.062364</td>\n",
       "      <td>0.569662</td>\n",
       "      <td>0.729490</td>\n",
       "      <td>0.692105</td>\n",
       "      <td>0.500000</td>\n",
       "      <td>0.799180</td>\n",
       "      <td>0.926523</td>\n",
       "      <td>0.945131</td>\n",
       "    </tr>\n",
       "    <tr>\n",
       "      <th>0</th>\n",
       "      <td>P6</td>\n",
       "      <td>combined</td>\n",
       "      <td>6.704932</td>\n",
       "      <td>0.559025</td>\n",
       "      <td>0.736023</td>\n",
       "      <td>0.625000</td>\n",
       "      <td>0.436090</td>\n",
       "      <td>0.795918</td>\n",
       "      <td>0.921458</td>\n",
       "      <td>0.966606</td>\n",
       "    </tr>\n",
       "    <tr>\n",
       "      <th>0</th>\n",
       "      <td>P5</td>\n",
       "      <td>combined</td>\n",
       "      <td>8.287311</td>\n",
       "      <td>0.527193</td>\n",
       "      <td>0.784555</td>\n",
       "      <td>0.744444</td>\n",
       "      <td>0.904412</td>\n",
       "      <td>0.250000</td>\n",
       "      <td>0.979514</td>\n",
       "      <td>0.982248</td>\n",
       "    </tr>\n",
       "    <tr>\n",
       "      <th>0</th>\n",
       "      <td>P21</td>\n",
       "      <td>combined</td>\n",
       "      <td>8.479499</td>\n",
       "      <td>0.357770</td>\n",
       "      <td>0.953349</td>\n",
       "      <td>0.750000</td>\n",
       "      <td>0.724138</td>\n",
       "      <td>0.774194</td>\n",
       "      <td>0.997330</td>\n",
       "      <td>0.965248</td>\n",
       "    </tr>\n",
       "    <tr>\n",
       "      <th>0</th>\n",
       "      <td>P9</td>\n",
       "      <td>combined</td>\n",
       "      <td>7.457047</td>\n",
       "      <td>0.550240</td>\n",
       "      <td>0.752866</td>\n",
       "      <td>0.577273</td>\n",
       "      <td>0.531532</td>\n",
       "      <td>0.623853</td>\n",
       "      <td>0.970370</td>\n",
       "      <td>0.976538</td>\n",
       "    </tr>\n",
       "    <tr>\n",
       "      <th>0</th>\n",
       "      <td>P14</td>\n",
       "      <td>combined</td>\n",
       "      <td>7.237658</td>\n",
       "      <td>0.557704</td>\n",
       "      <td>0.750350</td>\n",
       "      <td>0.706250</td>\n",
       "      <td>0.868132</td>\n",
       "      <td>0.492754</td>\n",
       "      <td>0.986845</td>\n",
       "      <td>0.992951</td>\n",
       "    </tr>\n",
       "    <tr>\n",
       "      <th>0</th>\n",
       "      <td>P15</td>\n",
       "      <td>combined</td>\n",
       "      <td>7.027839</td>\n",
       "      <td>0.406700</td>\n",
       "      <td>0.905965</td>\n",
       "      <td>0.833333</td>\n",
       "      <td>0.956522</td>\n",
       "      <td>0.428571</td>\n",
       "      <td>0.998557</td>\n",
       "      <td>0.985639</td>\n",
       "    </tr>\n",
       "    <tr>\n",
       "      <th>0</th>\n",
       "      <td>P13</td>\n",
       "      <td>combined</td>\n",
       "      <td>6.855649</td>\n",
       "      <td>0.576228</td>\n",
       "      <td>0.729474</td>\n",
       "      <td>0.673333</td>\n",
       "      <td>0.896552</td>\n",
       "      <td>0.206186</td>\n",
       "      <td>0.980518</td>\n",
       "      <td>0.918382</td>\n",
       "    </tr>\n",
       "    <tr>\n",
       "      <th>0</th>\n",
       "      <td>P18</td>\n",
       "      <td>combined</td>\n",
       "      <td>7.451448</td>\n",
       "      <td>0.542691</td>\n",
       "      <td>0.758664</td>\n",
       "      <td>0.672727</td>\n",
       "      <td>0.790210</td>\n",
       "      <td>0.454545</td>\n",
       "      <td>0.962190</td>\n",
       "      <td>0.921216</td>\n",
       "    </tr>\n",
       "    <tr>\n",
       "      <th>0</th>\n",
       "      <td>P25</td>\n",
       "      <td>combined</td>\n",
       "      <td>6.672649</td>\n",
       "      <td>0.592497</td>\n",
       "      <td>0.699034</td>\n",
       "      <td>0.596154</td>\n",
       "      <td>0.386957</td>\n",
       "      <td>0.762069</td>\n",
       "      <td>0.891408</td>\n",
       "      <td>0.952104</td>\n",
       "    </tr>\n",
       "    <tr>\n",
       "      <th>0</th>\n",
       "      <td>P22</td>\n",
       "      <td>combined</td>\n",
       "      <td>7.306460</td>\n",
       "      <td>0.623410</td>\n",
       "      <td>0.667311</td>\n",
       "      <td>0.647826</td>\n",
       "      <td>0.836237</td>\n",
       "      <td>0.335260</td>\n",
       "      <td>0.934882</td>\n",
       "      <td>0.882923</td>\n",
       "    </tr>\n",
       "    <tr>\n",
       "      <th>0</th>\n",
       "      <td>P23</td>\n",
       "      <td>combined</td>\n",
       "      <td>6.511491</td>\n",
       "      <td>0.627420</td>\n",
       "      <td>0.657614</td>\n",
       "      <td>0.580000</td>\n",
       "      <td>0.484321</td>\n",
       "      <td>0.667732</td>\n",
       "      <td>0.864731</td>\n",
       "      <td>0.923918</td>\n",
       "    </tr>\n",
       "    <tr>\n",
       "      <th>0</th>\n",
       "      <td>P3</td>\n",
       "      <td>combined</td>\n",
       "      <td>7.780417</td>\n",
       "      <td>0.570464</td>\n",
       "      <td>0.727458</td>\n",
       "      <td>0.621875</td>\n",
       "      <td>0.708333</td>\n",
       "      <td>0.492188</td>\n",
       "      <td>0.948943</td>\n",
       "      <td>0.911039</td>\n",
       "    </tr>\n",
       "    <tr>\n",
       "      <th>0</th>\n",
       "      <td>P2</td>\n",
       "      <td>combined</td>\n",
       "      <td>6.983288</td>\n",
       "      <td>0.427086</td>\n",
       "      <td>0.886155</td>\n",
       "      <td>1.000000</td>\n",
       "      <td>1.000000</td>\n",
       "      <td>NaN</td>\n",
       "      <td>0.999981</td>\n",
       "      <td>NaN</td>\n",
       "    </tr>\n",
       "    <tr>\n",
       "      <th>0</th>\n",
       "      <td>P8</td>\n",
       "      <td>combined</td>\n",
       "      <td>5.288483</td>\n",
       "      <td>0.557536</td>\n",
       "      <td>0.747201</td>\n",
       "      <td>0.772727</td>\n",
       "      <td>0.622093</td>\n",
       "      <td>0.869403</td>\n",
       "      <td>0.972524</td>\n",
       "      <td>0.980105</td>\n",
       "    </tr>\n",
       "  </tbody>\n",
       "</table>\n",
       "</div>"
      ],
      "text/plain": [
       "  subID      task  avg_tot_dur  train_loss  train_acc  test_acc  error_true  \\\n",
       "0   P19  combined     6.201509    0.597313   0.688820  0.626667    0.687500   \n",
       "0   P24  combined     6.062364    0.569662   0.729490  0.692105    0.500000   \n",
       "0    P6  combined     6.704932    0.559025   0.736023  0.625000    0.436090   \n",
       "0    P5  combined     8.287311    0.527193   0.784555  0.744444    0.904412   \n",
       "0   P21  combined     8.479499    0.357770   0.953349  0.750000    0.724138   \n",
       "0    P9  combined     7.457047    0.550240   0.752866  0.577273    0.531532   \n",
       "0   P14  combined     7.237658    0.557704   0.750350  0.706250    0.868132   \n",
       "0   P15  combined     7.027839    0.406700   0.905965  0.833333    0.956522   \n",
       "0   P13  combined     6.855649    0.576228   0.729474  0.673333    0.896552   \n",
       "0   P18  combined     7.451448    0.542691   0.758664  0.672727    0.790210   \n",
       "0   P25  combined     6.672649    0.592497   0.699034  0.596154    0.386957   \n",
       "0   P22  combined     7.306460    0.623410   0.667311  0.647826    0.836237   \n",
       "0   P23  combined     6.511491    0.627420   0.657614  0.580000    0.484321   \n",
       "0    P3  combined     7.780417    0.570464   0.727458  0.621875    0.708333   \n",
       "0    P2  combined     6.983288    0.427086   0.886155  1.000000    1.000000   \n",
       "0    P8  combined     5.288483    0.557536   0.747201  0.772727    0.622093   \n",
       "\n",
       "   no_error_true  error_true_accs  no_error_true_accs  \n",
       "0       0.557143         0.962905            0.947082  \n",
       "0       0.799180         0.926523            0.945131  \n",
       "0       0.795918         0.921458            0.966606  \n",
       "0       0.250000         0.979514            0.982248  \n",
       "0       0.774194         0.997330            0.965248  \n",
       "0       0.623853         0.970370            0.976538  \n",
       "0       0.492754         0.986845            0.992951  \n",
       "0       0.428571         0.998557            0.985639  \n",
       "0       0.206186         0.980518            0.918382  \n",
       "0       0.454545         0.962190            0.921216  \n",
       "0       0.762069         0.891408            0.952104  \n",
       "0       0.335260         0.934882            0.882923  \n",
       "0       0.667732         0.864731            0.923918  \n",
       "0       0.492188         0.948943            0.911039  \n",
       "0            NaN         0.999981                 NaN  \n",
       "0       0.869403         0.972524            0.980105  "
      ]
     },
     "execution_count": 8,
     "metadata": {},
     "output_type": "execute_result"
    }
   ],
   "source": [
    "nn"
   ]
  },
  {
   "cell_type": "code",
   "execution_count": 9,
   "id": "bd5f23ed",
   "metadata": {},
   "outputs": [],
   "source": [
    "errs = errors.groupby(['subID','task']).count()"
   ]
  },
  {
   "cell_type": "code",
   "execution_count": 10,
   "id": "11733fb0",
   "metadata": {},
   "outputs": [],
   "source": [
    "errs = errs.loc[:,'motor_error']"
   ]
  },
  {
   "cell_type": "code",
   "execution_count": 11,
   "id": "76625aed",
   "metadata": {},
   "outputs": [],
   "source": [
    "task_errs = errors.groupby(['subID','task']).count()\n",
    "task_errs = task_errs.loc[:,'motor_error']\n",
    "num_errs = errors.groupby(['subID']).count()\n",
    "num_errs = num_errs.loc[:,'motor_error']\n",
    "\n",
    "nn = nn.set_index('subID')\n",
    "nn = pd.concat([nn, num_errs], axis=1)\n",
    "nn = nn.dropna()"
   ]
  },
  {
   "cell_type": "code",
   "execution_count": 12,
   "id": "5642994c",
   "metadata": {},
   "outputs": [],
   "source": [
    "# All participants and their respective vision loss\n",
    "VL_map = {'P2':'CVL', 'P3':'CVL', 'P4':'Other', 'P5':'PVL', 'P6':'CVL', 'P8':'CVL', 'P9':'CVL', 'P10':'CVL',\n",
    "                'P11':'PVL', 'P12':'PVL', 'P13':'CVL', 'P14':'PVL', 'P15':'PVL', 'P16':'PVL', 'P17':'PVL',\n",
    "                'P18':'CVL', 'P19':'CVL', 'P21':'CVL', 'P22':'PVL', 'P23':'PVL', 'P24':'PVL', 'P25':'CVL'}"
   ]
  },
  {
   "cell_type": "code",
   "execution_count": 13,
   "id": "e0def3b4",
   "metadata": {},
   "outputs": [],
   "source": [
    "nn['VL'] = [VL_map[subID] for subID in nn.index]"
   ]
  },
  {
   "cell_type": "code",
   "execution_count": 14,
   "id": "6e3f5d87",
   "metadata": {},
   "outputs": [
    {
     "data": {
      "text/html": [
       "<div>\n",
       "<style scoped>\n",
       "    .dataframe tbody tr th:only-of-type {\n",
       "        vertical-align: middle;\n",
       "    }\n",
       "\n",
       "    .dataframe tbody tr th {\n",
       "        vertical-align: top;\n",
       "    }\n",
       "\n",
       "    .dataframe thead th {\n",
       "        text-align: right;\n",
       "    }\n",
       "</style>\n",
       "<table border=\"1\" class=\"dataframe\">\n",
       "  <thead>\n",
       "    <tr style=\"text-align: right;\">\n",
       "      <th></th>\n",
       "      <th>task</th>\n",
       "      <th>avg_tot_dur</th>\n",
       "      <th>train_loss</th>\n",
       "      <th>train_acc</th>\n",
       "      <th>test_acc</th>\n",
       "      <th>error_true</th>\n",
       "      <th>no_error_true</th>\n",
       "      <th>error_true_accs</th>\n",
       "      <th>no_error_true_accs</th>\n",
       "      <th>motor_error</th>\n",
       "      <th>VL</th>\n",
       "    </tr>\n",
       "    <tr>\n",
       "      <th>subID</th>\n",
       "      <th></th>\n",
       "      <th></th>\n",
       "      <th></th>\n",
       "      <th></th>\n",
       "      <th></th>\n",
       "      <th></th>\n",
       "      <th></th>\n",
       "      <th></th>\n",
       "      <th></th>\n",
       "      <th></th>\n",
       "      <th></th>\n",
       "    </tr>\n",
       "  </thead>\n",
       "  <tbody>\n",
       "    <tr>\n",
       "      <th>P19</th>\n",
       "      <td>combined</td>\n",
       "      <td>6.201509</td>\n",
       "      <td>0.597313</td>\n",
       "      <td>0.688820</td>\n",
       "      <td>0.626667</td>\n",
       "      <td>0.687500</td>\n",
       "      <td>0.557143</td>\n",
       "      <td>0.962905</td>\n",
       "      <td>0.947082</td>\n",
       "      <td>36</td>\n",
       "      <td>CVL</td>\n",
       "    </tr>\n",
       "    <tr>\n",
       "      <th>P24</th>\n",
       "      <td>combined</td>\n",
       "      <td>6.062364</td>\n",
       "      <td>0.569662</td>\n",
       "      <td>0.729490</td>\n",
       "      <td>0.692105</td>\n",
       "      <td>0.500000</td>\n",
       "      <td>0.799180</td>\n",
       "      <td>0.926523</td>\n",
       "      <td>0.945131</td>\n",
       "      <td>28</td>\n",
       "      <td>PVL</td>\n",
       "    </tr>\n",
       "    <tr>\n",
       "      <th>P6</th>\n",
       "      <td>combined</td>\n",
       "      <td>6.704932</td>\n",
       "      <td>0.559025</td>\n",
       "      <td>0.736023</td>\n",
       "      <td>0.625000</td>\n",
       "      <td>0.436090</td>\n",
       "      <td>0.795918</td>\n",
       "      <td>0.921458</td>\n",
       "      <td>0.966606</td>\n",
       "      <td>30</td>\n",
       "      <td>CVL</td>\n",
       "    </tr>\n",
       "    <tr>\n",
       "      <th>P5</th>\n",
       "      <td>combined</td>\n",
       "      <td>8.287311</td>\n",
       "      <td>0.527193</td>\n",
       "      <td>0.784555</td>\n",
       "      <td>0.744444</td>\n",
       "      <td>0.904412</td>\n",
       "      <td>0.250000</td>\n",
       "      <td>0.979514</td>\n",
       "      <td>0.982248</td>\n",
       "      <td>53</td>\n",
       "      <td>PVL</td>\n",
       "    </tr>\n",
       "    <tr>\n",
       "      <th>P21</th>\n",
       "      <td>combined</td>\n",
       "      <td>8.479499</td>\n",
       "      <td>0.357770</td>\n",
       "      <td>0.953349</td>\n",
       "      <td>0.750000</td>\n",
       "      <td>0.724138</td>\n",
       "      <td>0.774194</td>\n",
       "      <td>0.997330</td>\n",
       "      <td>0.965248</td>\n",
       "      <td>36</td>\n",
       "      <td>CVL</td>\n",
       "    </tr>\n",
       "    <tr>\n",
       "      <th>P9</th>\n",
       "      <td>combined</td>\n",
       "      <td>7.457047</td>\n",
       "      <td>0.550240</td>\n",
       "      <td>0.752866</td>\n",
       "      <td>0.577273</td>\n",
       "      <td>0.531532</td>\n",
       "      <td>0.623853</td>\n",
       "      <td>0.970370</td>\n",
       "      <td>0.976538</td>\n",
       "      <td>23</td>\n",
       "      <td>CVL</td>\n",
       "    </tr>\n",
       "    <tr>\n",
       "      <th>P14</th>\n",
       "      <td>combined</td>\n",
       "      <td>7.237658</td>\n",
       "      <td>0.557704</td>\n",
       "      <td>0.750350</td>\n",
       "      <td>0.706250</td>\n",
       "      <td>0.868132</td>\n",
       "      <td>0.492754</td>\n",
       "      <td>0.986845</td>\n",
       "      <td>0.992951</td>\n",
       "      <td>53</td>\n",
       "      <td>PVL</td>\n",
       "    </tr>\n",
       "    <tr>\n",
       "      <th>P15</th>\n",
       "      <td>combined</td>\n",
       "      <td>7.027839</td>\n",
       "      <td>0.406700</td>\n",
       "      <td>0.905965</td>\n",
       "      <td>0.833333</td>\n",
       "      <td>0.956522</td>\n",
       "      <td>0.428571</td>\n",
       "      <td>0.998557</td>\n",
       "      <td>0.985639</td>\n",
       "      <td>13</td>\n",
       "      <td>PVL</td>\n",
       "    </tr>\n",
       "    <tr>\n",
       "      <th>P13</th>\n",
       "      <td>combined</td>\n",
       "      <td>6.855649</td>\n",
       "      <td>0.576228</td>\n",
       "      <td>0.729474</td>\n",
       "      <td>0.673333</td>\n",
       "      <td>0.896552</td>\n",
       "      <td>0.206186</td>\n",
       "      <td>0.980518</td>\n",
       "      <td>0.918382</td>\n",
       "      <td>61</td>\n",
       "      <td>CVL</td>\n",
       "    </tr>\n",
       "    <tr>\n",
       "      <th>P18</th>\n",
       "      <td>combined</td>\n",
       "      <td>7.451448</td>\n",
       "      <td>0.542691</td>\n",
       "      <td>0.758664</td>\n",
       "      <td>0.672727</td>\n",
       "      <td>0.790210</td>\n",
       "      <td>0.454545</td>\n",
       "      <td>0.962190</td>\n",
       "      <td>0.921216</td>\n",
       "      <td>52</td>\n",
       "      <td>CVL</td>\n",
       "    </tr>\n",
       "    <tr>\n",
       "      <th>P25</th>\n",
       "      <td>combined</td>\n",
       "      <td>6.672649</td>\n",
       "      <td>0.592497</td>\n",
       "      <td>0.699034</td>\n",
       "      <td>0.596154</td>\n",
       "      <td>0.386957</td>\n",
       "      <td>0.762069</td>\n",
       "      <td>0.891408</td>\n",
       "      <td>0.952104</td>\n",
       "      <td>49</td>\n",
       "      <td>CVL</td>\n",
       "    </tr>\n",
       "    <tr>\n",
       "      <th>P22</th>\n",
       "      <td>combined</td>\n",
       "      <td>7.306460</td>\n",
       "      <td>0.623410</td>\n",
       "      <td>0.667311</td>\n",
       "      <td>0.647826</td>\n",
       "      <td>0.836237</td>\n",
       "      <td>0.335260</td>\n",
       "      <td>0.934882</td>\n",
       "      <td>0.882923</td>\n",
       "      <td>66</td>\n",
       "      <td>PVL</td>\n",
       "    </tr>\n",
       "    <tr>\n",
       "      <th>P23</th>\n",
       "      <td>combined</td>\n",
       "      <td>6.511491</td>\n",
       "      <td>0.627420</td>\n",
       "      <td>0.657614</td>\n",
       "      <td>0.580000</td>\n",
       "      <td>0.484321</td>\n",
       "      <td>0.667732</td>\n",
       "      <td>0.864731</td>\n",
       "      <td>0.923918</td>\n",
       "      <td>65</td>\n",
       "      <td>PVL</td>\n",
       "    </tr>\n",
       "    <tr>\n",
       "      <th>P3</th>\n",
       "      <td>combined</td>\n",
       "      <td>7.780417</td>\n",
       "      <td>0.570464</td>\n",
       "      <td>0.727458</td>\n",
       "      <td>0.621875</td>\n",
       "      <td>0.708333</td>\n",
       "      <td>0.492188</td>\n",
       "      <td>0.948943</td>\n",
       "      <td>0.911039</td>\n",
       "      <td>62</td>\n",
       "      <td>CVL</td>\n",
       "    </tr>\n",
       "    <tr>\n",
       "      <th>P8</th>\n",
       "      <td>combined</td>\n",
       "      <td>5.288483</td>\n",
       "      <td>0.557536</td>\n",
       "      <td>0.747201</td>\n",
       "      <td>0.772727</td>\n",
       "      <td>0.622093</td>\n",
       "      <td>0.869403</td>\n",
       "      <td>0.972524</td>\n",
       "      <td>0.980105</td>\n",
       "      <td>35</td>\n",
       "      <td>CVL</td>\n",
       "    </tr>\n",
       "  </tbody>\n",
       "</table>\n",
       "</div>"
      ],
      "text/plain": [
       "           task  avg_tot_dur  train_loss  train_acc  test_acc  error_true  \\\n",
       "subID                                                                       \n",
       "P19    combined     6.201509    0.597313   0.688820  0.626667    0.687500   \n",
       "P24    combined     6.062364    0.569662   0.729490  0.692105    0.500000   \n",
       "P6     combined     6.704932    0.559025   0.736023  0.625000    0.436090   \n",
       "P5     combined     8.287311    0.527193   0.784555  0.744444    0.904412   \n",
       "P21    combined     8.479499    0.357770   0.953349  0.750000    0.724138   \n",
       "P9     combined     7.457047    0.550240   0.752866  0.577273    0.531532   \n",
       "P14    combined     7.237658    0.557704   0.750350  0.706250    0.868132   \n",
       "P15    combined     7.027839    0.406700   0.905965  0.833333    0.956522   \n",
       "P13    combined     6.855649    0.576228   0.729474  0.673333    0.896552   \n",
       "P18    combined     7.451448    0.542691   0.758664  0.672727    0.790210   \n",
       "P25    combined     6.672649    0.592497   0.699034  0.596154    0.386957   \n",
       "P22    combined     7.306460    0.623410   0.667311  0.647826    0.836237   \n",
       "P23    combined     6.511491    0.627420   0.657614  0.580000    0.484321   \n",
       "P3     combined     7.780417    0.570464   0.727458  0.621875    0.708333   \n",
       "P8     combined     5.288483    0.557536   0.747201  0.772727    0.622093   \n",
       "\n",
       "       no_error_true  error_true_accs  no_error_true_accs  motor_error   VL  \n",
       "subID                                                                        \n",
       "P19         0.557143         0.962905            0.947082           36  CVL  \n",
       "P24         0.799180         0.926523            0.945131           28  PVL  \n",
       "P6          0.795918         0.921458            0.966606           30  CVL  \n",
       "P5          0.250000         0.979514            0.982248           53  PVL  \n",
       "P21         0.774194         0.997330            0.965248           36  CVL  \n",
       "P9          0.623853         0.970370            0.976538           23  CVL  \n",
       "P14         0.492754         0.986845            0.992951           53  PVL  \n",
       "P15         0.428571         0.998557            0.985639           13  PVL  \n",
       "P13         0.206186         0.980518            0.918382           61  CVL  \n",
       "P18         0.454545         0.962190            0.921216           52  CVL  \n",
       "P25         0.762069         0.891408            0.952104           49  CVL  \n",
       "P22         0.335260         0.934882            0.882923           66  PVL  \n",
       "P23         0.667732         0.864731            0.923918           65  PVL  \n",
       "P3          0.492188         0.948943            0.911039           62  CVL  \n",
       "P8          0.869403         0.972524            0.980105           35  CVL  "
      ]
     },
     "execution_count": 14,
     "metadata": {},
     "output_type": "execute_result"
    }
   ],
   "source": [
    "nn"
   ]
  },
  {
   "cell_type": "markdown",
   "id": "d45d1a14",
   "metadata": {},
   "source": [
    "## Find outliers (noisy datasets)"
   ]
  },
  {
   "cell_type": "code",
   "execution_count": 15,
   "id": "fb0f1ba9",
   "metadata": {},
   "outputs": [],
   "source": [
    "# get the length of all datasets and calculate ratio of consecutive events\n",
    "len_datasets = {}\n",
    "dur_totals = {}\n",
    "ratio_noise_loss_num = {}\n",
    "ratio_blinks_num = {}\n",
    "ratio_noise_loss_dur = {}\n",
    "ratio_blinks_dur = {}\n",
    "for HMD in seq.HMD.unique():\n",
    "    for subID in seq.subID.unique():\n",
    "        for task in seq.task.unique():\n",
    "            for eye in seq.eye.unique():\n",
    "                ID = HMD+subID+task+eye\n",
    "                temp = seq.loc[(seq.HMD==HMD)&(seq.subID==subID)&(seq.task==task)&(seq.eye==eye)]\n",
    "                if len(temp) != 0:\n",
    "                    len_datasets[ID] = len(temp)\n",
    "                    dur_totals[ID] = sum(temp.duration)\n",
    "                    ratio_noise_loss_num[ID] = len(temp.loc[(temp.event=='noise') | (temp.event=='loss')])/len(temp)\n",
    "                    ratio_blinks_num[ID] = len(temp.loc[(temp.event=='blink') | (temp.has_blink==True)])/len(temp)\n",
    "                    ratio_noise_loss_dur[ID] = sum(temp.loc[(temp.event=='noise') | (temp.event=='loss'), 'duration'])/sum(temp.duration)\n",
    "                    ratio_blinks_dur[ID] = sum(temp.loc[(temp.event=='blink') | (temp.has_blink==True),'duration'])/sum(temp.duration)\n"
   ]
  },
  {
   "cell_type": "code",
   "execution_count": 16,
   "id": "7fbe18b2",
   "metadata": {},
   "outputs": [
    {
     "data": {
      "text/plain": [
       "['varjoP3cerealright']"
      ]
     },
     "execution_count": 16,
     "metadata": {},
     "output_type": "execute_result"
    }
   ],
   "source": [
    "[k for k, v in ratio_noise_loss_num.items() if v == min(ratio_noise_loss_num.values())]"
   ]
  },
  {
   "cell_type": "code",
   "execution_count": 17,
   "id": "a6f9ae4d",
   "metadata": {},
   "outputs": [
    {
     "data": {
      "text/plain": [
       "['varjoP25sandwichleft']"
      ]
     },
     "execution_count": 17,
     "metadata": {},
     "output_type": "execute_result"
    }
   ],
   "source": [
    "[k for k, v in ratio_noise_loss_dur.items() if v == min(ratio_noise_loss_dur.values())]"
   ]
  },
  {
   "cell_type": "code",
   "execution_count": 18,
   "id": "278d79b2",
   "metadata": {},
   "outputs": [
    {
     "data": {
      "image/png": "[encoded data removed]",
      "text/plain": [
       "<Figure size 864x432 with 1 Axes>"
      ]
     },
     "metadata": {},
     "output_type": "display_data"
    }
   ],
   "source": [
    "analyze_datasets(ratio_noise_loss_dur, title='Ratio of duration of noise and loss in data')"
   ]
  },
  {
   "cell_type": "code",
   "execution_count": 19,
   "id": "d4f7c04a",
   "metadata": {},
   "outputs": [],
   "source": [
    "# # remove datasets where noise and loss account for more than 5% of dataset duration\n",
    "# high_noise = [k for k,v in ratio_noise_loss_dur.items() if v > 0.10]\n",
    "\n",
    "# n = len(seq.UID.unique())\n",
    "# to_drop = []\n",
    "# for idx, row in seq.iterrows():\n",
    "#     if row.UID in high_noise:\n",
    "#         to_drop.append(idx)\n",
    "# seq = seq.drop(to_drop)\n",
    "# seq.reset_index(inplace=True)\n",
    "\n",
    "# to_drop = []\n",
    "# for idx, row in seq_50.iterrows():\n",
    "#     if row.UID in high_noise:\n",
    "#         to_drop.append(idx)\n",
    "# seq_50 = seq_50.drop(to_drop)\n",
    "# seq_50.reset_index(inplace=True)\n",
    "\n",
    "# to_drop = []\n",
    "# for idx, row in seq_51.iterrows():\n",
    "#     if row.UID in high_noise:\n",
    "#         to_drop.append(idx)\n",
    "# seq_51 = seq_51.drop(to_drop)\n",
    "# seq_51.reset_index(inplace=True)\n",
    "\n",
    "# print(f'dropped {len(high_noise)} datasets out of {n} ({np.round(len(high_noise)/n,2)*100}%)\\n{high_noise}')"
   ]
  },
  {
   "cell_type": "code",
   "execution_count": 21,
   "id": "d99b1799",
   "metadata": {},
   "outputs": [],
   "source": [
    "# get the length of all datasets in order to calculate ratio of consecutive events\n",
    "len_datasets = {}\n",
    "dur_totals = {}\n",
    "ratio_noise_loss_num = {}\n",
    "ratio_blinks_num = {}\n",
    "ratio_noise_loss_dur = {}\n",
    "ratio_blinks_dur = {}\n",
    "for HMD in seq.HMD.unique():\n",
    "    for subID in seq.subID.unique():\n",
    "        for task in seq.task.unique():\n",
    "            for eye in seq.eye.unique():\n",
    "                ID = HMD+subID+task+eye\n",
    "                temp = seq.loc[(seq.HMD==HMD)&(seq.subID==subID)&(seq.task==task)&(seq.eye==eye)]\n",
    "                ID = subID\n",
    "                if len(temp) != 0:\n",
    "                    len_datasets[ID] = len(temp)\n",
    "                    dur_totals[ID] = sum(temp.duration)\n",
    "                    ratio_noise_loss_num[ID] = len(temp.loc[(temp.event=='noise') | (temp.event=='loss')])/len(temp)\n",
    "                    ratio_blinks_num[ID] = len(temp.loc[(temp.event=='blink') | (temp.has_blink==True)])/len(temp)\n",
    "                    ratio_noise_loss_dur[ID] = sum(temp.loc[(temp.event=='noise') | (temp.event=='loss'), 'duration'])/sum(temp.duration)\n",
    "                    ratio_blinks_dur[ID] = sum(temp.loc[(temp.event=='blink') | (temp.has_blink==True),'duration'])/sum(temp.duration)\n"
   ]
  },
  {
   "cell_type": "code",
   "execution_count": 22,
   "id": "11354de7",
   "metadata": {},
   "outputs": [
    {
     "data": {
      "image/png": "[encoded data removed]",
      "text/plain": [
       "<Figure size 864x432 with 1 Axes>"
      ]
     },
     "metadata": {},
     "output_type": "display_data"
    }
   ],
   "source": [
    "analyze_datasets(ratio_blinks_num, title='Ratio of events that are blinks')"
   ]
  },
  {
   "cell_type": "code",
   "execution_count": 23,
   "id": "ac85a7bf",
   "metadata": {},
   "outputs": [
    {
     "data": {
      "image/png": "[encoded data removed]",
      "text/plain": [
       "<Figure size 864x432 with 1 Axes>"
      ]
     },
     "metadata": {},
     "output_type": "display_data"
    }
   ],
   "source": [
    "analyze_datasets(ratio_blinks_dur, title='Duration of data that are blinks')"
   ]
  },
  {
   "cell_type": "code",
   "execution_count": 24,
   "id": "29423e80",
   "metadata": {},
   "outputs": [
    {
     "data": {
      "image/png": "[encoded data removed]",
      "text/plain": [
       "<Figure size 864x432 with 1 Axes>"
      ]
     },
     "metadata": {},
     "output_type": "display_data"
    }
   ],
   "source": [
    "analyze_datasets(ratio_noise_loss_num, title='Ratio of events that are noise and loss')"
   ]
  },
  {
   "cell_type": "code",
   "execution_count": 25,
   "id": "692c9c38",
   "metadata": {},
   "outputs": [
    {
     "data": {
      "image/png": "[encoded data removed]",
      "text/plain": [
       "<Figure size 864x432 with 1 Axes>"
      ]
     },
     "metadata": {},
     "output_type": "display_data"
    }
   ],
   "source": [
    "analyze_datasets(ratio_noise_loss_dur, title='Duration of data that are noise and loss')"
   ]
  },
  {
   "cell_type": "markdown",
   "id": "7c6cf0fa",
   "metadata": {},
   "source": [
    "## NN test performance and correlations\n"
   ]
  },
  {
   "cell_type": "code",
   "execution_count": 28,
   "id": "47fe7b1a",
   "metadata": {},
   "outputs": [],
   "source": [
    "nn_ = nn.copy()"
   ]
  },
  {
   "cell_type": "code",
   "execution_count": 29,
   "id": "939de2b1",
   "metadata": {},
   "outputs": [],
   "source": [
    "noise_num = pd.DataFrame(ratio_noise_loss_num,index=['noise_num']).T\n",
    "noise_dur = pd.DataFrame(ratio_noise_loss_dur,index=['noise_dur']).T\n",
    "blink_num = pd.DataFrame(ratio_blinks_num,index=['blink_num']).T\n",
    "blink_dur = pd.DataFrame(ratio_blinks_dur,index=['blink_dur']).T\n",
    "nn = pd.concat([nn_, noise_num, noise_dur, blink_num, blink_dur], axis=1).dropna()"
   ]
  },
  {
   "cell_type": "code",
   "execution_count": 30,
   "id": "97ffa2dd",
   "metadata": {},
   "outputs": [
    {
     "name": "stdout",
     "output_type": "stream",
     "text": [
      "correlation between noise num and noise/loss dur:    r = 0.9145191905469369,  p = 1.8215959266322363e-06\n",
      "correlation between blink num and blink dur:         r = 0.8354547150483734,  p = 0.00010545442848689845\n"
     ]
    }
   ],
   "source": [
    "# ensure frequencies and durations are correlated in noise and blinks\n",
    "r, p = pearsonr(nn.noise_num, nn.noise_dur)\n",
    "print(f'correlation between noise num and noise/loss dur:    r = {r},  p = {p}')\n",
    "r, p = pearsonr(nn.blink_num, nn.blink_dur)\n",
    "print(f'correlation between blink num and blink dur:         r = {r},  p = {p}')"
   ]
  },
  {
   "cell_type": "code",
   "execution_count": 31,
   "id": "ab0d03bd",
   "metadata": {},
   "outputs": [
    {
     "name": "stdout",
     "output_type": "stream",
     "text": [
      "correlation between test acc and noise/loss num:    r = 0.03011964476079334,  p = 0.9151413895100777\n",
      "correlation between test acc and blinks:            r = -0.27007238147590673,  p = 0.3303072093027534\n",
      "correlation between test acc and noise/loss dur:    r = 0.28997692743718095,  p = 0.2944605979329701\n",
      "correlation between test acc and blink dur:         r = -0.1735454128851116,  p = 0.5362126305492055\n"
     ]
    }
   ],
   "source": [
    "r, p = pearsonr(nn.test_acc, nn.noise_num)\n",
    "print(f'correlation between test acc and noise/loss num:    r = {r},  p = {p}')\n",
    "r, p = pearsonr(nn.test_acc, nn.blink_num)\n",
    "print(f'correlation between test acc and blinks:            r = {r},  p = {p}')\n",
    "r, p = pearsonr(nn.test_acc, nn.noise_dur)\n",
    "print(f'correlation between test acc and noise/loss dur:    r = {r},  p = {p}')\n",
    "r, p = pearsonr(nn.test_acc, nn.blink_dur)\n",
    "print(f'correlation between test acc and blink dur:         r = {r},  p = {p}')"
   ]
  },
  {
   "cell_type": "code",
   "execution_count": 32,
   "id": "e185c05f",
   "metadata": {},
   "outputs": [
    {
     "data": {
      "image/png": "[encoded data removed]",
      "text/plain": [
       "<Figure size 432x288 with 1 Axes>"
      ]
     },
     "metadata": {},
     "output_type": "display_data"
    }
   ],
   "source": [
    "# scatter of test acc by num errors\n",
    "plt.figure()\n",
    "plt.scatter(nn.motor_error, nn.test_acc)\n",
    "plt.xlabel('num errors',fontsize=15)\n",
    "plt.ylabel('test accuracy %',fontsize=15)\n",
    "plt.title('Test accuracy vs num errors',fontsize=15)\n",
    "plt.xticks(fontsize=15)\n",
    "plt.yticks(fontsize=15)\n",
    "plt.show()"
   ]
  },
  {
   "cell_type": "code",
   "execution_count": 33,
   "id": "2b21e675",
   "metadata": {},
   "outputs": [
    {
     "data": {
      "image/png": "[encoded data removed]",
      "text/plain": [
       "<Figure size 432x288 with 1 Axes>"
      ]
     },
     "metadata": {},
     "output_type": "display_data"
    }
   ],
   "source": [
    "# scatter of test acc by num errors\n",
    "plt.figure()\n",
    "plt.scatter(nn.motor_error, nn.error_true)\n",
    "plt.xlabel('num errors',fontsize=15)\n",
    "plt.ylabel('accuracy %',fontsize=15)\n",
    "plt.title('true positives (error)',fontsize=15)\n",
    "plt.xticks(fontsize=15)\n",
    "plt.yticks(fontsize=15)\n",
    "plt.show()"
   ]
  },
  {
   "cell_type": "code",
   "execution_count": 34,
   "id": "0692c57d",
   "metadata": {},
   "outputs": [
    {
     "data": {
      "image/png": "[encoded data removed]",
      "text/plain": [
       "<Figure size 432x288 with 1 Axes>"
      ]
     },
     "metadata": {},
     "output_type": "display_data"
    }
   ],
   "source": [
    "# scatter of test acc by num errors\n",
    "plt.figure()\n",
    "plt.scatter(nn.motor_error, nn.no_error_true)\n",
    "plt.xlabel('num errors',fontsize=15)\n",
    "plt.ylabel('accuracy %',fontsize=15)\n",
    "plt.title('True negatives (no error)',fontsize=15)\n",
    "plt.xticks(fontsize=15)\n",
    "plt.yticks(fontsize=15)\n",
    "plt.show()"
   ]
  },
  {
   "cell_type": "code",
   "execution_count": 35,
   "id": "7e35c872",
   "metadata": {},
   "outputs": [
    {
     "data": {
      "image/png": "[encoded data removed]",
      "text/plain": [
       "<Figure size 432x288 with 1 Axes>"
      ]
     },
     "metadata": {},
     "output_type": "display_data"
    }
   ],
   "source": [
    "y = nn.groupby('VL').mean()\n",
    "\n",
    "plt.figure()\n",
    "plt.bar(y.index, y.test_acc)\n",
    "plt.xlabel('vision loss',fontsize=15)\n",
    "plt.ylabel('accuracy %',fontsize=15)\n",
    "plt.title('Avg test accuracy by vision loss',fontsize=15)\n",
    "plt.xticks(fontsize=15)\n",
    "plt.yticks(fontsize=15)\n",
    "plt.show()"
   ]
  },
  {
   "cell_type": "code",
   "execution_count": 36,
   "id": "ddc10480",
   "metadata": {},
   "outputs": [
    {
     "data": {
      "image/png": "[encoded data removed]",
      "text/plain": [
       "<Figure size 432x288 with 1 Axes>"
      ]
     },
     "metadata": {},
     "output_type": "display_data"
    }
   ],
   "source": [
    "y = nn.groupby('task').mean()\n",
    "\n",
    "plt.figure()\n",
    "plt.bar(y.index, y.test_acc)\n",
    "plt.xlabel('task',fontsize=15)\n",
    "plt.ylabel('accuracy %',fontsize=15)\n",
    "plt.title('Avg test accuracy by task',fontsize=15)\n",
    "plt.xticks(fontsize=15)\n",
    "plt.yticks(fontsize=15)\n",
    "plt.show()"
   ]
  },
  {
   "cell_type": "code",
   "execution_count": 37,
   "id": "62f132f3",
   "metadata": {},
   "outputs": [
    {
     "name": "stdout",
     "output_type": "stream",
     "text": [
      "correlation between test acc and true positive (error):    r = 0.6164612014379741,  p = 0.014385882703742154\n",
      "correlation between test acc and true negtaive (no error): r = -0.1240406480218775,  p = 0.6596200565827325\n",
      "correlation between test acc and number motor errors:      r = -0.37740371290538227,  p = 0.1655022241216336\n"
     ]
    }
   ],
   "source": [
    "r, p = pearsonr(nn.test_acc, nn.error_true)\n",
    "print(f'correlation between test acc and true positive (error):    r = {r},  p = {p}')\n",
    "r, p = pearsonr(nn.test_acc, nn.no_error_true)\n",
    "print(f'correlation between test acc and true negtaive (no error): r = {r},  p = {p}')\n",
    "r, p = pearsonr(nn.test_acc, nn.motor_error)\n",
    "print(f'correlation between test acc and number motor errors:      r = {r},  p = {p}')"
   ]
  },
  {
   "cell_type": "code",
   "execution_count": 38,
   "id": "65211861",
   "metadata": {},
   "outputs": [
    {
     "data": {
      "image/png": "[encoded data removed]",
      "text/plain": [
       "<Figure size 432x288 with 1 Axes>"
      ]
     },
     "metadata": {},
     "output_type": "display_data"
    }
   ],
   "source": [
    "plt.figure()\n",
    "plt.bar(nn.index, nn.test_acc)\n",
    "plt.xlabel('subject',fontsize=15)\n",
    "plt.ylabel('accuracy %',fontsize=15)\n",
    "plt.title('Overall test accuracy',fontsize=15)\n",
    "plt.xticks(fontsize=0)\n",
    "plt.yticks(fontsize=15)\n",
    "text = f'mean: {np.round(nn.test_acc.mean(),2)}\\nstd: {np.round(nn.test_acc.std(),2)}'\n",
    "plt.hlines(nn.test_acc.mean(),-0.5,15,linestyle='--',color='black',label=text)\n",
    "plt.legend(bbox_to_anchor=(1,1),loc='upper left', fontsize=15)\n",
    "plt.show()"
   ]
  },
  {
   "cell_type": "code",
   "execution_count": 39,
   "id": "46db6a91",
   "metadata": {},
   "outputs": [
    {
     "data": {
      "text/html": [
       "<div>\n",
       "<style scoped>\n",
       "    .dataframe tbody tr th:only-of-type {\n",
       "        vertical-align: middle;\n",
       "    }\n",
       "\n",
       "    .dataframe tbody tr th {\n",
       "        vertical-align: top;\n",
       "    }\n",
       "\n",
       "    .dataframe thead th {\n",
       "        text-align: right;\n",
       "    }\n",
       "</style>\n",
       "<table border=\"1\" class=\"dataframe\">\n",
       "  <thead>\n",
       "    <tr style=\"text-align: right;\">\n",
       "      <th></th>\n",
       "      <th></th>\n",
       "      <th>avg_tot_dur</th>\n",
       "      <th>train_loss</th>\n",
       "      <th>train_acc</th>\n",
       "      <th>test_acc</th>\n",
       "      <th>error_true</th>\n",
       "      <th>no_error_true</th>\n",
       "      <th>error_true_accs</th>\n",
       "      <th>no_error_true_accs</th>\n",
       "      <th>motor_error</th>\n",
       "      <th>noise_num</th>\n",
       "      <th>noise_dur</th>\n",
       "      <th>blink_num</th>\n",
       "      <th>blink_dur</th>\n",
       "    </tr>\n",
       "    <tr>\n",
       "      <th>VL</th>\n",
       "      <th>task</th>\n",
       "      <th></th>\n",
       "      <th></th>\n",
       "      <th></th>\n",
       "      <th></th>\n",
       "      <th></th>\n",
       "      <th></th>\n",
       "      <th></th>\n",
       "      <th></th>\n",
       "      <th></th>\n",
       "      <th></th>\n",
       "      <th></th>\n",
       "      <th></th>\n",
       "      <th></th>\n",
       "    </tr>\n",
       "  </thead>\n",
       "  <tbody>\n",
       "    <tr>\n",
       "      <th>CVL</th>\n",
       "      <th>combined</th>\n",
       "      <td>9</td>\n",
       "      <td>9</td>\n",
       "      <td>9</td>\n",
       "      <td>9</td>\n",
       "      <td>9</td>\n",
       "      <td>9</td>\n",
       "      <td>9</td>\n",
       "      <td>9</td>\n",
       "      <td>9</td>\n",
       "      <td>9</td>\n",
       "      <td>9</td>\n",
       "      <td>9</td>\n",
       "      <td>9</td>\n",
       "    </tr>\n",
       "    <tr>\n",
       "      <th>PVL</th>\n",
       "      <th>combined</th>\n",
       "      <td>6</td>\n",
       "      <td>6</td>\n",
       "      <td>6</td>\n",
       "      <td>6</td>\n",
       "      <td>6</td>\n",
       "      <td>6</td>\n",
       "      <td>6</td>\n",
       "      <td>6</td>\n",
       "      <td>6</td>\n",
       "      <td>6</td>\n",
       "      <td>6</td>\n",
       "      <td>6</td>\n",
       "      <td>6</td>\n",
       "    </tr>\n",
       "  </tbody>\n",
       "</table>\n",
       "</div>"
      ],
      "text/plain": [
       "              avg_tot_dur  train_loss  train_acc  test_acc  error_true  \\\n",
       "VL  task                                                                 \n",
       "CVL combined            9           9          9         9           9   \n",
       "PVL combined            6           6          6         6           6   \n",
       "\n",
       "              no_error_true  error_true_accs  no_error_true_accs  motor_error  \\\n",
       "VL  task                                                                        \n",
       "CVL combined              9                9                   9            9   \n",
       "PVL combined              6                6                   6            6   \n",
       "\n",
       "              noise_num  noise_dur  blink_num  blink_dur  \n",
       "VL  task                                                  \n",
       "CVL combined          9          9          9          9  \n",
       "PVL combined          6          6          6          6  "
      ]
     },
     "execution_count": 39,
     "metadata": {},
     "output_type": "execute_result"
    }
   ],
   "source": [
    "nn.groupby(['VL','task']).count()"
   ]
  },
  {
   "cell_type": "code",
   "execution_count": 40,
   "id": "77c5fcf2",
   "metadata": {},
   "outputs": [
    {
     "name": "stdout",
     "output_type": "stream",
     "text": [
      "correlation between test acc and average window size (sec):    r = 0.06682907134900298,  p = 0.8129384768333574\n",
      "correlation between test acc and training acc:                 r = 0.7249465601570745,  p = 0.002229528622059869\n"
     ]
    }
   ],
   "source": [
    "r, p = pearsonr(nn.test_acc, nn.avg_tot_dur)\n",
    "print(f'correlation between test acc and average window size (sec):    r = {r},  p = {p}')\n",
    "r, p = pearsonr(nn.test_acc, nn.train_acc)\n",
    "print(f'correlation between test acc and training acc:                 r = {r},  p = {p}')\n"
   ]
  },
  {
   "cell_type": "code",
   "execution_count": 41,
   "id": "7dfa5378",
   "metadata": {},
   "outputs": [
    {
     "name": "stdout",
     "output_type": "stream",
     "text": [
      "Average NN performance:\n",
      "Overall test accuracy:    67.46%\n",
      "True positive (error):    68.89% with accuracy 95.32% \n",
      "True negative (no error): 56.73% with accuracy 95.01% \n"
     ]
    }
   ],
   "source": [
    "print('Average NN performance:')\n",
    "print(f'Overall test accuracy:    {np.round(nn.test_acc.mean()*100,2)}%')\n",
    "print(f'True positive (error):    {np.round(nn.error_true.mean()*100,2)}% with accuracy {np.round(nn.error_true_accs.mean()*100,2)}% ')\n",
    "print(f'True negative (no error): {np.round(nn.no_error_true.mean()*100,2)}% with accuracy {np.round(nn.no_error_true_accs.mean()*100,2)}% ')\n"
   ]
  },
  {
   "cell_type": "code",
   "execution_count": null,
   "id": "57096c95",
   "metadata": {},
   "outputs": [],
   "source": [
    "# confusion matrix of averages\n",
    "# plot_df = pd.DataFrame({'Target':targs, 'Prediction':preds})\n",
    "# confusion_matrix = pd.crosstab(plot_df['Prediction'], plot_df['Target'], rownames=['Prediction'], colnames=['Target'])\n",
    "# confusion_matrix = confusion_matrix.apply(lambda x: x/x.sum(), axis=0)\n",
    "\n",
    "# plt.figure()\n",
    "# sns.heatmap(confusion_matrix, annot=True)\n",
    "# plt.savefig('/home/s202576/thesis_spring2022/NN/models/test/{subID}'.format(subID=SUBJECT))\n",
    "# plt.show()"
   ]
  },
  {
   "cell_type": "code",
   "execution_count": null,
   "id": "0e73f1d7",
   "metadata": {},
   "outputs": [],
   "source": []
  }
 ],
 "metadata": {
  "kernelspec": {
   "display_name": "Python 3 (ipykernel)",
   "language": "python",
   "name": "python3"
  },
  "language_info": {
   "codemirror_mode": {
    "name": "ipython",
    "version": 3
   },
   "file_extension": ".py",
   "mimetype": "text/x-python",
   "name": "python",
   "nbconvert_exporter": "python",
   "pygments_lexer": "ipython3",
   "version": "3.9.7"
  }
 },
 "nbformat": 4,
 "nbformat_minor": 5
}
